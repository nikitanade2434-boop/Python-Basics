{
  "nbformat": 4,
  "nbformat_minor": 0,
  "metadata": {
    "colab": {
      "provenance": []
    },
    "kernelspec": {
      "name": "python3",
      "display_name": "Python 3"
    },
    "language_info": {
      "name": "python"
    }
  },
  "cells": [
    {
      "cell_type": "markdown",
      "source": [
        "# Python Basics\n"
      ],
      "metadata": {
        "id": "o-JgP8QfSMqt"
      }
    },
    {
      "cell_type": "code",
      "execution_count": null,
      "metadata": {
        "id": "yW5zupsUR4-F"
      },
      "outputs": [],
      "source": []
    },
    {
      "cell_type": "markdown",
      "source": [
        "1. What is Python, and why is it popular\n",
        "    - Python is a high-level, interpreted programming language known for its simplicity, readability, and versatility.\n",
        "    - Popularity reasons:\n",
        "      Easy syntax, similar to English\n",
        "      Large standard library\n",
        "      Active community\n",
        "      Great for beginners and professionals alike\n",
        "      Widely used in web development, data science, automation, AI, and more\n",
        "\n",
        "2. What is an interpreter in Python\n",
        "   - An interpreter reads and executes Python code line by line, converting it into machine code. Python doesn't need to be compiled beforehand — it's executed directly, making testing and debugging easier.\n",
        "\n",
        "3. What are pre-defined keywords in Python?\n",
        "\n",
        "   - Pre-defined keywords (or reserved words) are words that Python has already assigned specific meanings to.\n",
        "   - Examples: if, else, while, for, def, class, True, None, etc.\n",
        "      These cannot be used as variable names.\n",
        "\n",
        "4. Can keywords be used as variable names?\n",
        "\n",
        "   - No, keywords cannot be used as variable names because they have predefined\n",
        "     purposes in the language and doing so would cause a syntax error.\n",
        "\n",
        "5. What is mutability in Python?\n",
        "\n",
        "   - Mutability refers to whether an object can be changed after it's created.\n",
        "\n",
        "   - Mutable: Can be modified (e.g., lists, dictionaries)\n",
        "\n",
        "   - Immutable: Cannot be modified (e.g., strings, tuples)\n",
        "\n",
        "6. Why are lists mutable, but tuples are immutable?\n",
        "\n",
        "   - Lists are designed to store dynamic data — you can add, remove, or change items.\n",
        "\n",
        "   - Tuples are designed for fixed collections of data that shouldn’t change, ensuring data integrity and allowing optimization (e.g., hashability).\n",
        "\n",
        "7. What is the difference between == and is operators in Python?\n",
        "\n",
        "   - ==: Checks value equality (are the contents the same?)\n",
        "\n",
        "   - is: Checks identity (do both variables point to the same memory location?)\n",
        "\n",
        "   - a = [1, 2]; b = [1, 2]\n",
        "     a == b  # True\n",
        "     a is b  # False\n",
        "\n",
        "8. What are logical operators in Python?\n",
        "\n",
        "   - Logical operators are used to combine conditional statements:\n",
        "\n",
        "     and – True if both operands are True\n",
        "\n",
        "     or – True if at least one operand is True\n",
        "\n",
        "     not – Inverts the truth value\n",
        "\n",
        "9. What is type casting in Python?\n",
        "\n",
        "   - Type casting is converting one data type into another.\n",
        "     Example: int(\"5\") converts the string \"5\" into the integer 5.\n",
        "\n",
        "10. What is the difference between implicit and explicit type casting?\n",
        "\n",
        "    - Implicit casting: Done automatically by Python (e.g., int + float = float)\n",
        "\n",
        "    - Explicit casting: Done manually using functions like int(), float(), str()\n",
        "\n",
        "11. What is the purpose of conditional statements in Python?\n",
        "\n",
        "    - Conditional statements let programs make decisions based on conditions. They control the flow of execution using if, elif, and else.\n",
        "\n",
        "12. How does the elif statement work?\n",
        "\n",
        "    - elif stands for \"else if\" and allows multiple conditions to be checked in sequence:\n",
        "\n",
        "      if x > 10:\n",
        "      print(\"Big\")\n",
        "      elif x == 10:\n",
        "      print(\"Exactly 10\")\n",
        "      else:\n",
        "      print(\"Small\")\n",
        "\n",
        "13. What is the difference between for and while loops?\n",
        "\n",
        "    - for loop: Iterates over a sequence (like a list, range, or string).\n",
        "\n",
        "    - while loop: Repeats as long as a condition is True.\n",
        "\n",
        "14. Describe a scenario where a while loop is more suitable than a for loop.\n",
        "\n",
        "    - When the number of iterations is unknown, and the loop should continue until a condition changes.\n",
        "    - Example:\n",
        "      password = \"\"\n",
        "      while password != \"secret\":\n",
        "      password = input(\"Enter password: \")"
      ],
      "metadata": {
        "id": "kJ0Tl4O8SbZT"
      }
    },
    {
      "cell_type": "code",
      "source": [
        "# Write a Python program to print \"Hello, World!y\n",
        "print(\"Hello, World!\")"
      ],
      "metadata": {
        "colab": {
          "base_uri": "https://localhost:8080/"
        },
        "id": "Ev917yUKdQQ7",
        "outputId": "b5383151-a532-4da1-dfeb-5d997c127a0d"
      },
      "execution_count": 1,
      "outputs": [
        {
          "output_type": "stream",
          "name": "stdout",
          "text": [
            "Hello, World!\n"
          ]
        }
      ]
    },
    {
      "cell_type": "code",
      "source": [
        "# Write a Python program that displays your name and age8\n",
        "name = \"John\"\n",
        "age = 25\n",
        "print(\"Name:\", name)\n",
        "print(\"Age:\", age)\n"
      ],
      "metadata": {
        "colab": {
          "base_uri": "https://localhost:8080/"
        },
        "id": "68SoiqlndYXv",
        "outputId": "5362c72c-d759-423e-94fc-3554caf7205f"
      },
      "execution_count": 2,
      "outputs": [
        {
          "output_type": "stream",
          "name": "stdout",
          "text": [
            "Name: John\n",
            "Age: 25\n"
          ]
        }
      ]
    },
    {
      "cell_type": "code",
      "source": [
        "# Write code to print all the pre-defined keywords in Python using the keyword library8\n",
        "import keyword\n",
        "print(\"Python keywords are:\")\n",
        "print(keyword.kwlist)\n"
      ],
      "metadata": {
        "id": "GIu3l5hwdtTT"
      },
      "execution_count": null,
      "outputs": []
    },
    {
      "cell_type": "code",
      "source": [
        "# Write a program that checks if a given word is a Python keyword.\n",
        "import keyword\n",
        "\n",
        "word = input(\"Enter a word: \")\n",
        "if keyword.iskeyword(word):\n",
        "    print(f\"'{word}' is a Python keyword.\")\n",
        "else:\n",
        "    print(f\"'{word}' is NOT a Python keyword.\")\n"
      ],
      "metadata": {
        "id": "VRB03fjPeHlJ"
      },
      "execution_count": null,
      "outputs": []
    },
    {
      "cell_type": "code",
      "source": [
        "#  Create a list and tuple in Python, and demonstrate how attempting to change an element works differently\n",
        "def modify_list(l):\n",
        "    l.append(100)  # List is mutable\n",
        "\n",
        "def modify_int(x):\n",
        "    x += 10  # Int is immutable\n",
        "\n",
        "my_list = [1, 2, 3]\n",
        "my_int = 5\n",
        "\n",
        "modify_list(my_list)\n",
        "modify_int(my_int)\n",
        "\n",
        "print(\"List after modification:\", my_list)  # Changed\n",
        "print(\"Integer after modification:\", my_int)  # Unchanged\n"
      ],
      "metadata": {
        "id": "aFD2xFebeRH1"
      },
      "execution_count": null,
      "outputs": []
    },
    {
      "cell_type": "code",
      "source": [
        "# Write a function to demonstrate the behavior of mutable and immutable arguments.\n",
        "a = float(input(\"Enter first number: \"))\n",
        "b = float(input(\"Enter second number: \"))\n",
        "\n",
        "print(\"Sum:\", a + b)\n",
        "print(\"Difference:\", a - b)\n",
        "print(\"Product:\", a * b)\n",
        "print(\"Quotient:\", a / b if b != 0 else \"Undefined\")\n"
      ],
      "metadata": {
        "id": "WKgHDfoYelgt"
      },
      "execution_count": null,
      "outputs": []
    },
    {
      "cell_type": "code",
      "source": [
        "# Write a program that performs basic arithmetic operations on two user-input numbers.\n",
        "a = float(input(\"Enter first number: \"))\n",
        "b = float(input(\"Enter second number: \"))\n",
        "\n",
        "print(\"Sum:\", a + b)\n",
        "print(\"Difference:\", a - b)\n",
        "print(\"Product:\", a * b)\n",
        "print(\"Quotient:\", a / b if b != 0 else \"Undefined\")\n"
      ],
      "metadata": {
        "id": "tBC2xzsneuUP"
      },
      "execution_count": null,
      "outputs": []
    },
    {
      "cell_type": "code",
      "source": [
        "# Write a program to demonstrate the use of logical operators.\n",
        "x = 10\n",
        "y = 5\n",
        "\n",
        "print(x > 5 and y < 10)  # True\n",
        "print(x < 5 or y < 10)   # True\n",
        "print(not(x == 10))      # False\n"
      ],
      "metadata": {
        "id": "o0_SvvMCe4pq"
      },
      "execution_count": null,
      "outputs": []
    },
    {
      "cell_type": "code",
      "source": [
        "#  Write a Python program to convert user input from string to integer, float, and boolean types.\n",
        "user_input = input(\"Enter a value: \")\n",
        "\n",
        "int_val = int(user_input)\n",
        "float_val = float(user_input)\n",
        "bool_val = bool(user_input)\n",
        "\n",
        "print(\"As integer:\", int_val)\n",
        "print(\"As float:\", float_val)\n",
        "print(\"As boolean:\", bool_val)\n",
        "\n"
      ],
      "metadata": {
        "id": "951H13ZlfJuT"
      },
      "execution_count": null,
      "outputs": []
    },
    {
      "cell_type": "code",
      "source": [
        "# Write code to demonstrate type casting with list elements.\n",
        "str_list = [\"1\", \"2\", \"3\"]\n",
        "int_list = list(map(int, str_list))\n",
        "print(\"String list:\", str_list)\n",
        "print(\"Converted to integers:\", int_list)\n"
      ],
      "metadata": {
        "id": "60xutLI9fhp_"
      },
      "execution_count": null,
      "outputs": []
    },
    {
      "cell_type": "code",
      "source": [
        "# Write a program that checks if a number is positive, negative, or zero.\n",
        "num = float(input(\"Enter a number: \"))\n",
        "\n",
        "if num > 0:\n",
        "    print(\"Positive number\")\n",
        "elif num < 0:\n",
        "    print(\"Negative number\")\n",
        "else:\n",
        "    print(\"Zero\")\n"
      ],
      "metadata": {
        "id": "x_fOgeZTfrM4"
      },
      "execution_count": null,
      "outputs": []
    },
    {
      "cell_type": "code",
      "source": [
        "# Write a for loop to print numbers from 1 to 10.\n",
        "for i in range(1, 11):\n",
        "    print(i)\n",
        "\n"
      ],
      "metadata": {
        "id": "lMh9sfbcfzic"
      },
      "execution_count": null,
      "outputs": []
    },
    {
      "cell_type": "code",
      "source": [
        "# Write a Python program to find the sum of all even numbers between 1 and 50.\n",
        "total = 0\n",
        "for i in range(2, 51, 2):\n",
        "    total += i\n",
        "print(\"Sum of even numbers from 1 to 50:\", total)\n",
        "\n"
      ],
      "metadata": {
        "id": "_2VnX6mhgFgI"
      },
      "execution_count": null,
      "outputs": []
    },
    {
      "cell_type": "code",
      "source": [
        "# Write a program to reverse a string using a while loop.\n",
        "text = input(\"Enter a string: \")\n",
        "reversed_str = \"\"\n",
        "i = len(text) - 1\n",
        "\n",
        "while i >= 0:\n",
        "    reversed_str += text[i]\n",
        "    i -= 1\n",
        "\n",
        "print(\"Reversed string:\", reversed_str)\n"
      ],
      "metadata": {
        "id": "6YHe6YK9gNly"
      },
      "execution_count": null,
      "outputs": []
    },
    {
      "cell_type": "code",
      "source": [
        "# Write a Python program to calculate the factorial of a number provided by the user using a while loop\n",
        "num = int(input(\"Enter a number: \"))\n",
        "factorial = 1\n",
        "i = 1\n",
        "\n",
        "while i <= num:\n",
        "    factorial *= i\n",
        "    i += 1\n",
        "\n",
        "print(f\"Factorial of {num} is {factorial}\")\n"
      ],
      "metadata": {
        "id": "Rcnrq3FwgVaj"
      },
      "execution_count": null,
      "outputs": []
    }
  ]
}