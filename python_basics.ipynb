{
  "nbformat": 4,
  "nbformat_minor": 0,
  "metadata": {
    "colab": {
      "provenance": []
    },
    "kernelspec": {
      "name": "python3",
      "display_name": "Python 3"
    },
    "language_info": {
      "name": "python"
    }
  },
  "cells": [
    {
      "cell_type": "markdown",
      "source": [
        "# Python Basics\n"
      ],
      "metadata": {
        "id": "o-JgP8QfSMqt"
      }
    },
    {
      "cell_type": "code",
      "execution_count": null,
      "metadata": {
        "id": "yW5zupsUR4-F"
      },
      "outputs": [],
      "source": []
    },
    {
      "cell_type": "markdown",
      "source": [
        "1. What is Python, and why is it popular\n",
        "    - Python is a high-level, interpreted programming language known for its simplicity, readability, and versatility.\n",
        "    - Popularity reasons:\n",
        "      Easy syntax, similar to English\n",
        "      Large standard library\n",
        "      Active community\n",
        "      Great for beginners and professionals alike\n",
        "      Widely used in web development, data science, automation, AI, and more\n",
        "\n",
        "2. What is an interpreter in Python\n",
        "   - An interpreter reads and executes Python code line by line, converting it into machine code. Python doesn't need to be compiled beforehand — it's executed directly, making testing and debugging easier.\n",
        "\n",
        "3. What are pre-defined keywords in Python?\n",
        "\n",
        "   - Pre-defined keywords (or reserved words) are words that Python has already assigned specific meanings to.\n",
        "   - Examples: if, else, while, for, def, class, True, None, etc.\n",
        "      These cannot be used as variable names.\n",
        "\n",
        "4. Can keywords be used as variable names?\n",
        "\n",
        "   - No, keywords cannot be used as variable names because they have predefined\n",
        "     purposes in the language and doing so would cause a syntax error.\n",
        "\n",
        "5. What is mutability in Python?\n",
        "\n",
        "   - Mutability refers to whether an object can be changed after it's created.\n",
        "\n",
        "   - Mutable: Can be modified (e.g., lists, dictionaries)\n",
        "\n",
        "   - Immutable: Cannot be modified (e.g., strings, tuples)\n",
        "\n",
        "6. Why are lists mutable, but tuples are immutable?\n",
        "\n",
        "   - Lists are designed to store dynamic data — you can add, remove, or change items.\n",
        "\n",
        "   - Tuples are designed for fixed collections of data that shouldn’t change, ensuring data integrity and allowing optimization (e.g., hashability).\n",
        "\n",
        "7. What is the difference between == and is operators in Python?\n",
        "\n",
        "   - ==: Checks value equality (are the contents the same?)\n",
        "\n",
        "   - is: Checks identity (do both variables point to the same memory location?)\n",
        "\n",
        "   - a = [1, 2]; b = [1, 2]\n",
        "     a == b  # True\n",
        "     a is b  # False\n",
        "\n",
        "8. What are logical operators in Python?\n",
        "\n",
        "   - Logical operators are used to combine conditional statements:\n",
        "\n",
        "     and – True if both operands are True\n",
        "\n",
        "     or – True if at least one operand is True\n",
        "\n",
        "     not – Inverts the truth value\n",
        "\n",
        "9. What is type casting in Python?\n",
        "\n",
        "   - Type casting is converting one data type into another.\n",
        "     Example: int(\"5\") converts the string \"5\" into the integer 5.\n",
        "\n",
        "10. What is the difference between implicit and explicit type casting?\n",
        "\n",
        "    - Implicit casting: Done automatically by Python (e.g., int + float = float)\n",
        "\n",
        "    - Explicit casting: Done manually using functions like int(), float(), str()\n",
        "\n",
        "11. What is the purpose of conditional statements in Python?\n",
        "\n",
        "    - Conditional statements let programs make decisions based on conditions. They control the flow of execution using if, elif, and else.\n",
        "\n",
        "12. How does the elif statement work?\n",
        "\n",
        "    - elif stands for \"else if\" and allows multiple conditions to be checked in sequence:\n",
        "\n",
        "      if x > 10:\n",
        "      print(\"Big\")\n",
        "      elif x == 10:\n",
        "      print(\"Exactly 10\")\n",
        "      else:\n",
        "      print(\"Small\")\n",
        "\n",
        "13. What is the difference between for and while loops?\n",
        "\n",
        "    - for loop: Iterates over a sequence (like a list, range, or string).\n",
        "\n",
        "    - while loop: Repeats as long as a condition is True.\n",
        "\n",
        "14. Describe a scenario where a while loop is more suitable than a for loop.\n",
        "\n",
        "    - When the number of iterations is unknown, and the loop should continue until a condition changes.\n",
        "    - Example:\n",
        "      password = \"\"\n",
        "      while password != \"secret\":\n",
        "      password = input(\"Enter password: \")"
      ],
      "metadata": {
        "id": "kJ0Tl4O8SbZT"
      }
    }
  ]
}